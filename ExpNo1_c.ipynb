{
 "cells": [
  {
   "cell_type": "code",
   "execution_count": 2,
   "id": "4a5feb7c-4f16-4fea-864b-d31e9c53f205",
   "metadata": {},
   "outputs": [
    {
     "name": "stdout",
     "output_type": "stream",
     "text": [
      "Structured Data:\n",
      "    ID     Name  Age\n",
      "0   1    Alice   25\n",
      "1   2      Bob   30\n",
      "2   3  Charlie   35\n",
      "\n",
      "Unstructured Data:\n",
      " This is an example of unstructured data. It can be a piece of text, an image, or a video file.\n",
      "\n",
      "Semi-structured Data:\n",
      " {'ID': 1, 'Name': 'Alice', 'Attributes': {'Height': 165, 'Weight': 68}}\n"
     ]
    }
   ],
   "source": [
    "#B.NIKITHA\n",
    "#230701211\n",
    "#CSE_D\n",
    "\n",
    "import pandas as pd\n",
    "structured_data = pd.DataFrame({\n",
    "'ID': [1, 2, 3],\n",
    "'Name': ['Alice', 'Bob', 'Charlie'],\n",
    "'Age': [25, 30, 35]\n",
    "})\n",
    "print(\"Structured Data:\\n\", structured_data)\n",
    "\n",
    "# Unstructured data example\n",
    "unstructured_data = \"This is an example of unstructured data. It can be a piece of text, an image, or a video file.\"\n",
    "print(\"\\nUnstructured Data:\\n\", unstructured_data)\n",
    "\n",
    "# Semi-structured data example (JSON)\n",
    "semi_structured_data = {'ID': 1, 'Name': 'Alice', 'Attributes': {'Height': 165, 'Weight': 68}}\n",
    "print(\"\\nSemi-structured Data:\\n\", semi_structured_data)"
   ]
  },
  {
   "cell_type": "code",
   "execution_count": null,
   "id": "403a1b2d-bf41-403c-9524-07587b291201",
   "metadata": {},
   "outputs": [],
   "source": []
  }
 ],
 "metadata": {
  "kernelspec": {
   "display_name": "Python 3 (ipykernel)",
   "language": "python",
   "name": "python3"
  },
  "language_info": {
   "codemirror_mode": {
    "name": "ipython",
    "version": 3
   },
   "file_extension": ".py",
   "mimetype": "text/x-python",
   "name": "python",
   "nbconvert_exporter": "python",
   "pygments_lexer": "ipython3",
   "version": "3.11.7"
  }
 },
 "nbformat": 4,
 "nbformat_minor": 5
}
