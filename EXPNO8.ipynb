{
 "cells": [
  {
   "cell_type": "code",
   "execution_count": 1,
   "id": "b84c21d2-43b2-43e7-94b6-f8d3461de2d3",
   "metadata": {},
   "outputs": [
    {
     "name": "stdout",
     "output_type": "stream",
     "text": [
      "Sample Mean: 99.55\n",
      "T-Statistic: -0.1577\n",
      "P-Value: 0.8760\n",
      "Fail to reject the null hypothesis: There is no significant difference in average IQ score from 100.\n"
     ]
    }
   ],
   "source": [
    "#B.NIKITHA\n",
    "#230701211\n",
    "#CSE-D\n",
    "\n",
    "import numpy as np\n",
    "import scipy.stats as stats\n",
    "np.random.seed(42)\n",
    "sample_size = 25\n",
    "sample_data = np.random.normal(loc=102, scale=15,size=sample_size)\n",
    "population_mean = 100\n",
    "sample_mean = np.mean(sample_data)\n",
    "sample_std = np.std(sample_data, ddof=1) \n",
    "n = len(sample_data)\n",
    "t_statistic, p_value = stats.ttest_1samp(sample_data,population_mean)\n",
    "print(f\"Sample Mean: {sample_mean:.2f}\")\n",
    "print(f\"T-Statistic: {t_statistic:.4f}\")\n",
    "print(f\"P-Value: {p_value:.4f}\")\n",
    "alpha = 0.05\n",
    "if p_value < alpha:\n",
    "    print(\"Reject the null hypothesis: The average IQ score is significantly different from 100.\")\n",
    "else:\n",
    "    print(\"Fail to reject the null hypothesis: There is no significant difference in average IQ score from 100.\")"
   ]
  },
  {
   "cell_type": "code",
   "execution_count": null,
   "id": "d073dd44-7a96-474b-a43c-7f257033aa09",
   "metadata": {},
   "outputs": [],
   "source": []
  }
 ],
 "metadata": {
  "kernelspec": {
   "display_name": "Python 3 (ipykernel)",
   "language": "python",
   "name": "python3"
  },
  "language_info": {
   "codemirror_mode": {
    "name": "ipython",
    "version": 3
   },
   "file_extension": ".py",
   "mimetype": "text/x-python",
   "name": "python",
   "nbconvert_exporter": "python",
   "pygments_lexer": "ipython3",
   "version": "3.11.7"
  }
 },
 "nbformat": 4,
 "nbformat_minor": 5
}
