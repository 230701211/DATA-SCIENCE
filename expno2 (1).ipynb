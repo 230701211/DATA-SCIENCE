{
 "cells": [
  {
   "cell_type": "code",
   "execution_count": 35,
   "id": "58127944-f522-4ff9-ba6a-0106f3e1a084",
   "metadata": {},
   "outputs": [
    {
     "name": "stderr",
     "output_type": "stream",
     "text": [
      "C:\\Users\\gvmani\\anaconda3\\Lib\\site-packages\\seaborn\\_oldcore.py:1119: FutureWarning: use_inf_as_na option is deprecated and will be removed in a future version. Convert inf values to NaN before operating instead.\n",
      "  with pd.option_context('mode.use_inf_as_na', True):\n",
      "C:\\Users\\gvmani\\anaconda3\\Lib\\site-packages\\seaborn\\_oldcore.py:1119: FutureWarning: use_inf_as_na option is deprecated and will be removed in a future version. Convert inf values to NaN before operating instead.\n",
      "  with pd.option_context('mode.use_inf_as_na', True):\n",
      "C:\\Users\\gvmani\\anaconda3\\Lib\\site-packages\\seaborn\\_oldcore.py:1119: FutureWarning: use_inf_as_na option is deprecated and will be removed in a future version. Convert inf values to NaN before operating instead.\n",
      "  with pd.option_context('mode.use_inf_as_na', True):\n"
     ]
    },
    {
     "data": {
      "text/plain": [
       "<Axes: ylabel='Count'>"
      ]
     },
     "execution_count": 35,
     "metadata": {},
     "output_type": "execute_result"
    },
    {
     "data": {
      "image/png": "[encoded data removed]",
      "text/plain": [
       "<Figure size 640x480 with 1 Axes>"
      ]
     },
     "metadata": {},
     "output_type": "display_data"
    }
   ],
   "source": [
    "#B.NIKITHA\n",
    "#230701211\n",
    "#CSE-D\n",
    "import pandas as pd\n",
    "import numpy as np\n",
    "array=np.random.randint(1,100,18)\n",
    "array\n",
    "array.mean()\n",
    "def outDetection(array):\n",
    "    sorted(array)\n",
    "    Q1,Q3=np.percentile(array,[25,75])\n",
    "    IQR=Q3-Q1\n",
    "    lr=Q1-(1.5*IQR)\n",
    "    ur=Q3+(1.5*IQR)\n",
    "    return lr,ur\n",
    "lr,ur=outDetection(array)\n",
    "lr,ur\n",
    "import seaborn as sns\n",
    "%matplotlib inline\n",
    "sns.histplot(array)\n",
    "new_array=array[(array>lr) & (array<ur)]\n",
    "new_array\n",
    "sns.kdeplot(new_array)\n",
    "lr1,ur1=outDetection(new_array)\n",
    "lr1,ur1\n",
    "final_array=new_array[(new_array>lr1) & (new_array<ur1)]\n",
    "final_array\n",
    "sns.histplot(final_array)\n",
    "\n"
   ]
  },
  {
   "cell_type": "code",
   "execution_count": null,
   "id": "059a6826-1097-4a82-a3da-d54d1a1e36aa",
   "metadata": {},
   "outputs": [],
   "source": []
  },
  {
   "cell_type": "code",
   "execution_count": null,
   "id": "b19f00db-48d8-42f1-a764-8e86b51ec737",
   "metadata": {},
   "outputs": [],
   "source": []
  }
 ],
 "metadata": {
  "kernelspec": {
   "display_name": "Python 3 (ipykernel)",
   "language": "python",
   "name": "python3"
  },
  "language_info": {
   "codemirror_mode": {
    "name": "ipython",
    "version": 3
   },
   "file_extension": ".py",
   "mimetype": "text/x-python",
   "name": "python",
   "nbconvert_exporter": "python",
   "pygments_lexer": "ipython3",
   "version": "3.11.7"
  }
 },
 "nbformat": 4,
 "nbformat_minor": 5
}
