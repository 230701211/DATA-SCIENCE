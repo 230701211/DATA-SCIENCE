{
 "cells": [
  {
   "cell_type": "code",
   "execution_count": 4,
   "id": "b21cb5a3-1c73-4b7c-bb1b-a8f06633bd7b",
   "metadata": {},
   "outputs": [
    {
     "name": "stdout",
     "output_type": "stream",
     "text": [
      "Treatment A Mean Growth: 9.672983882683818\n",
      "Treatment B Mean Growth: 11.137680744437432\n",
      "Treatment C Mean Growth: 15.265234904828972\n",
      "\n",
      "F-Statistic: 36.1214\n",
      "P-Value: 0.0000\n",
      "Reject the null hypothesis: There is a significant difference in mean growth rates among the three treatments.\n",
      "\n",
      "Tukey's HSD Post-hoc Test:\n",
      "Multiple Comparison of Means - Tukey HSD, FWER=0.05\n",
      "===================================================\n",
      "group1 group2 meandiff p-adj   lower  upper  reject\n",
      "---------------------------------------------------\n",
      "     A      B   1.4647 0.0877 -0.1683 3.0977  False\n",
      "     A      C   5.5923    0.0  3.9593 7.2252   True\n",
      "     B      C   4.1276    0.0  2.4946 5.7605   True\n",
      "---------------------------------------------------\n"
     ]
    }
   ],
   "source": [
    "#B.NIKITHA\n",
    "#230701211\n",
    "#CSE-D\n",
    "\n",
    "import numpy as np\n",
    "import scipy.stats as stats\n",
    "np.random.seed(42)\n",
    "n_plants = 25\n",
    "growth_A = np.random.normal(loc=10, scale=2, size=n_plants)\n",
    "growth_B = np.random.normal(loc=12, scale=3, size=n_plants)\n",
    "growth_C = np.random.normal(loc=15, scale=2.5, size=n_plants)\n",
    "all_data = np.concatenate([growth_A, growth_B, growth_C])\n",
    "treatment_labels = ['A'] * n_plants + ['B'] * n_plants + ['C'] * n_plants\n",
    "f_statistic, p_value = stats.f_oneway(growth_A, growth_B, growth_C)\n",
    "print(\"Treatment A Mean Growth:\", np.mean(growth_A))\n",
    "print(\"Treatment B Mean Growth:\", np.mean(growth_B))\n",
    "print(\"Treatment C Mean Growth:\", np.mean(growth_C))\n",
    "print()\n",
    "print(f\"F-Statistic: {f_statistic:.4f}\")\n",
    "print(f\"P-Value: {p_value:.4f}\")\n",
    "alpha = 0.05\n",
    "if p_value < alpha:\n",
    "    print(\"Reject the null hypothesis: There is a significant difference in mean growth rates among the three treatments.\")\n",
    "else:\n",
    "    print(\"Fail to reject the null hypothesis: There is no significant difference in mean growth rates among the three treatments.\")\n",
    "if p_value < alpha:\n",
    "    from statsmodels.stats.multicomp import pairwise_tukeyhsd\n",
    "    tukey_results = pairwise_tukeyhsd(all_data, treatment_labels,alpha=0.05)\n",
    "    print(\"\\nTukey's HSD Post-hoc Test:\")\n",
    "    print(tukey_results)"
   ]
  },
  {
   "cell_type": "code",
   "execution_count": null,
   "id": "bb2b0613-5ee4-4b26-b942-af05657900ed",
   "metadata": {},
   "outputs": [],
   "source": []
  }
 ],
 "metadata": {
  "kernelspec": {
   "display_name": "Python 3 (ipykernel)",
   "language": "python",
   "name": "python3"
  },
  "language_info": {
   "codemirror_mode": {
    "name": "ipython",
    "version": 3
   },
   "file_extension": ".py",
   "mimetype": "text/x-python",
   "name": "python",
   "nbconvert_exporter": "python",
   "pygments_lexer": "ipython3",
   "version": "3.11.7"
  }
 },
 "nbformat": 4,
 "nbformat_minor": 5
}
