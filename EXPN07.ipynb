{
 "cells": [
  {
   "cell_type": "code",
   "execution_count": 3,
   "id": "cdd1a43d-827b-4a6d-b27f-6cf14f4da2c6",
   "metadata": {},
   "outputs": [
    {
     "name": "stdout",
     "output_type": "stream",
     "text": [
      "Sample Mean: 150.20\n",
      "Z-Statistic: 0.6406\n",
      "P-Value: 0.5218\n",
      "Fail to reject the null hypothesis: There is no significant difference in average weight from 150 grams.\n"
     ]
    }
   ],
   "source": [
    "#B.NIKITHA\n",
    "#230701211\n",
    "#CSE-D\n",
    "\n",
    "import numpy as np\n",
    "import scipy.stats as stats\n",
    "sample_data = np.array([152, 148, 151, 149, 147, 153, 150, 148, 152,\n",
    "149,151, 150, 149, 152, 151, 148, 150, 152, 149, 150,148, 153, 151,\n",
    "150, 149, 152, 148, 151, 150, 153])\n",
    "population_mean = 150\n",
    "sample_mean = np.mean(sample_data)\n",
    "sample_std = np.std(sample_data, ddof=1)\n",
    "n = len(sample_data)\n",
    "z_statistic = (sample_mean - population_mean) / (sample_std /np.sqrt(n))\n",
    "p_value = 2 * (1 - stats.norm.cdf(np.abs(z_statistic))) \n",
    "print(f\"Sample Mean: {sample_mean:.2f}\")\n",
    "print(f\"Z-Statistic: {z_statistic:.4f}\")\n",
    "print(f\"P-Value: {p_value:.4f}\")\n",
    "alpha = 0.05\n",
    "if p_value < alpha:\n",
    "    print(\"Reject the null hypothesis: The average weight is significantly different from 150 grams.\")\n",
    "else:\n",
    "    print(\"Fail to reject the null hypothesis: There is no significant difference in average weight from 150 grams.\")"
   ]
  },
  {
   "cell_type": "code",
   "execution_count": null,
   "id": "614eeeba-9135-4b2d-b7e4-7befadf9294c",
   "metadata": {},
   "outputs": [],
   "source": []
  }
 ],
 "metadata": {
  "kernelspec": {
   "display_name": "Python 3 (ipykernel)",
   "language": "python",
   "name": "python3"
  },
  "language_info": {
   "codemirror_mode": {
    "name": "ipython",
    "version": 3
   },
   "file_extension": ".py",
   "mimetype": "text/x-python",
   "name": "python",
   "nbconvert_exporter": "python",
   "pygments_lexer": "ipython3",
   "version": "3.11.7"
  }
 },
 "nbformat": 4,
 "nbformat_minor": 5
}
